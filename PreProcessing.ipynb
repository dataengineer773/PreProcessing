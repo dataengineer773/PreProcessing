{
 "cells": [
  {
   "cell_type": "code",
   "execution_count": 1,
   "id": "536d9f41-a572-404e-af5b-f0331208521e",
   "metadata": {},
   "outputs": [],
   "source": [
    "import numpy as np\n",
    "import pandas as pd\n",
    "\n",
    "planets = pd.read_csv('planet.csv')\n",
    "red_wine = pd.read_csv('winequality-red.csv')\n",
    "wine = pd.concat([\n",
    "    pd.read_csv('winequality-white.csv', sep=';').assign(kind='white'), \n",
    "    red_wine.assign(kind='red')\n",
    "])"
   ]
  },
  {
   "cell_type": "code",
   "execution_count": 2,
   "id": "7e0d1505-e89a-46c2-bbc6-0618acb89b4c",
   "metadata": {},
   "outputs": [],
   "source": [
    "# Train Test Split :\n",
    "from sklearn.model_selection import train_test_split\n",
    "\n",
    "X = planets[['eccentricity', 'semimajoraxis', 'mass']]\n",
    "y = planets.period\n",
    "\n",
    "X_train, X_test, y_train, y_test = train_test_split(\n",
    "    X, y, test_size=0.25, random_state=0\n",
    ")"
   ]
  },
  {
   "cell_type": "code",
   "execution_count": 3,
   "id": "1ed36c64-0714-4521-b890-a5a0b72f8447",
   "metadata": {},
   "outputs": [
    {
     "data": {
      "text/plain": [
       "((3814, 3), (3814,))"
      ]
     },
     "execution_count": 3,
     "metadata": {},
     "output_type": "execute_result"
    }
   ],
   "source": [
    "X.shape, y.shape"
   ]
  },
  {
   "cell_type": "code",
   "execution_count": 4,
   "id": "590f1a65-1683-4386-a3ee-b82c463e1464",
   "metadata": {},
   "outputs": [
    {
     "data": {
      "text/plain": [
       "((2860, 3), (2860,))"
      ]
     },
     "execution_count": 4,
     "metadata": {},
     "output_type": "execute_result"
    }
   ],
   "source": [
    "X_train.shape, y_train.shape"
   ]
  },
  {
   "cell_type": "code",
   "execution_count": 5,
   "id": "e961209d-4294-4b51-9bbc-9ca7780bbc47",
   "metadata": {},
   "outputs": [
    {
     "data": {
      "text/plain": [
       "((954, 3), (954,))"
      ]
     },
     "execution_count": 5,
     "metadata": {},
     "output_type": "execute_result"
    }
   ],
   "source": [
    "X_test.shape, y_test.shape"
   ]
  },
  {
   "cell_type": "code",
   "execution_count": 6,
   "id": "cbb06837-ea14-4ecb-b552-7a9393680f73",
   "metadata": {},
   "outputs": [
    {
     "data": {
      "text/html": [
       "<div>\n",
       "<style scoped>\n",
       "    .dataframe tbody tr th:only-of-type {\n",
       "        vertical-align: middle;\n",
       "    }\n",
       "\n",
       "    .dataframe tbody tr th {\n",
       "        vertical-align: top;\n",
       "    }\n",
       "\n",
       "    .dataframe thead th {\n",
       "        text-align: right;\n",
       "    }\n",
       "</style>\n",
       "<table border=\"1\" class=\"dataframe\">\n",
       "  <thead>\n",
       "    <tr style=\"text-align: right;\">\n",
       "      <th></th>\n",
       "      <th>eccentricity</th>\n",
       "      <th>semimajoraxis</th>\n",
       "      <th>mass</th>\n",
       "    </tr>\n",
       "  </thead>\n",
       "  <tbody>\n",
       "    <tr>\n",
       "      <th>1846</th>\n",
       "      <td>NaN</td>\n",
       "      <td>NaN</td>\n",
       "      <td>NaN</td>\n",
       "    </tr>\n",
       "    <tr>\n",
       "      <th>1918</th>\n",
       "      <td>NaN</td>\n",
       "      <td>NaN</td>\n",
       "      <td>NaN</td>\n",
       "    </tr>\n",
       "    <tr>\n",
       "      <th>3261</th>\n",
       "      <td>NaN</td>\n",
       "      <td>0.074</td>\n",
       "      <td>NaN</td>\n",
       "    </tr>\n",
       "    <tr>\n",
       "      <th>3000</th>\n",
       "      <td>NaN</td>\n",
       "      <td>NaN</td>\n",
       "      <td>NaN</td>\n",
       "    </tr>\n",
       "    <tr>\n",
       "      <th>1094</th>\n",
       "      <td>0.073</td>\n",
       "      <td>2.600</td>\n",
       "      <td>1.6</td>\n",
       "    </tr>\n",
       "  </tbody>\n",
       "</table>\n",
       "</div>"
      ],
      "text/plain": [
       "      eccentricity  semimajoraxis  mass\n",
       "1846           NaN            NaN   NaN\n",
       "1918           NaN            NaN   NaN\n",
       "3261           NaN          0.074   NaN\n",
       "3000           NaN            NaN   NaN\n",
       "1094         0.073          2.600   1.6"
      ]
     },
     "execution_count": 6,
     "metadata": {},
     "output_type": "execute_result"
    }
   ],
   "source": [
    "X_train.head()"
   ]
  },
  {
   "cell_type": "code",
   "execution_count": 7,
   "id": "34560f28-bdaf-472e-80be-241b908150d3",
   "metadata": {},
   "outputs": [
    {
     "data": {
      "text/plain": [
       "1846      52.661793\n",
       "1918      23.622591\n",
       "3261       7.008151\n",
       "3000     226.890470\n",
       "1094    1251.000000\n",
       "Name: period, dtype: float64"
      ]
     },
     "execution_count": 7,
     "metadata": {},
     "output_type": "execute_result"
    }
   ],
   "source": [
    "y_train.head()"
   ]
  },
  {
   "cell_type": "markdown",
   "id": "bf9369bd-c27a-4c35-8ab5-f987e02d28a1",
   "metadata": {},
   "source": [
    "Scaling data\n",
    "Standardizing with StandardScaler"
   ]
  },
  {
   "cell_type": "code",
   "execution_count": 8,
   "id": "6f07e0b0-e4d5-4277-bcf8-152703a37b2d",
   "metadata": {},
   "outputs": [
    {
     "data": {
      "text/plain": [
       "array([-0.17649619, -0.5045706 ,  0.14712504, -0.12764807,  1.09368797,\n",
       "        0.67240099, -0.01731216, -0.84296411, -0.18098025, -0.13758824,\n",
       "       -0.00791305, -0.09869129, -0.26808282, -0.18032045, -0.15945662,\n",
       "        0.36484041, -0.15305095, -0.28352985, -0.17803358, -0.18017312,\n",
       "       -0.238978  ,  0.05247717, -0.16875798, -0.26094578, -0.18022437,\n",
       "       -0.22704979, -0.25988606, -0.17954522, -0.2851004 , -0.68678249])"
      ]
     },
     "execution_count": 8,
     "metadata": {},
     "output_type": "execute_result"
    }
   ],
   "source": [
    "from sklearn.preprocessing import StandardScaler\n",
    "\n",
    "standardized = StandardScaler().fit_transform(X_train)\n",
    "\n",
    "# examine some of the non-NaN values\n",
    "standardized[~np.isnan(standardized)][:30]"
   ]
  },
  {
   "cell_type": "code",
   "execution_count": 9,
   "id": "826e4d49-ef6e-435b-a28b-5f7d44981d08",
   "metadata": {},
   "outputs": [
    {
     "data": {
      "text/plain": [
       "array([9.48059029e-03, 3.80041941e-01, 3.33101821e-01, 1.59042751e-01,\n",
       "       1.97830051e+00, 8.58377769e-01, 2.69378660e-01, 4.16484319e-02,\n",
       "       4.99652731e-03, 1.49102579e-01, 8.76699491e-01, 8.72854887e-02,\n",
       "       1.86080019e-02, 5.65632515e-03, 1.27234201e-01, 1.24945296e+00,\n",
       "       3.29258338e-02, 3.16097468e-03, 7.94319727e-03, 5.80365865e-03,\n",
       "       4.77128253e-02, 9.37089717e-01, 1.72188018e-02, 2.57450453e-02,\n",
       "       5.75241221e-03, 5.96410317e-02, 6.24726478e-01, 6.43155558e-03,\n",
       "       1.59042751e-03, 1.97830051e-01])"
      ]
     },
     "execution_count": 9,
     "metadata": {},
     "output_type": "execute_result"
    }
   ],
   "source": [
    "standardized = StandardScaler(with_mean=False).fit_transform(X_train)\n",
    "standardized[~np.isnan(standardized)][:30]"
   ]
  },
  {
   "cell_type": "code",
   "execution_count": 10,
   "id": "009b96c7-b40c-4490-a507-70950ccc9668",
   "metadata": {},
   "outputs": [
    {
     "data": {
      "text/plain": [
       "array([-1.37762709e+00, -9.69199710e-02,  1.14837291e+00, -1.28416362e+00,\n",
       "        2.10080029e-01,  5.24837291e+00, -1.74163617e-01, -1.61919971e-01,\n",
       "       -1.41262709e+00, -1.38416362e+00, -1.51997104e-03, -7.70327089e-01,\n",
       "       -2.69696362e+00, -1.40747709e+00, -1.60416362e+00,  7.00800290e-02,\n",
       "       -1.19462709e+00, -2.85236362e+00, -1.38962709e+00, -1.40632709e+00,\n",
       "       -2.40416362e+00,  1.00800290e-02, -1.31722709e+00, -2.62516362e+00,\n",
       "       -1.40672709e+00, -2.28416362e+00, -4.99199710e-02, -1.40142609e+00,\n",
       "       -2.86816362e+00, -1.31919971e-01])"
      ]
     },
     "execution_count": 10,
     "metadata": {},
     "output_type": "execute_result"
    }
   ],
   "source": [
    "standardized = StandardScaler(with_std=False).fit_transform(X_train)\n",
    "standardized[~np.isnan(standardized)][:30]"
   ]
  },
  {
   "cell_type": "markdown",
   "id": "29ebfc00-e00b-49ca-9041-42fdce86eec8",
   "metadata": {},
   "source": [
    "Normalizing with MinMaxScaler"
   ]
  },
  {
   "cell_type": "code",
   "execution_count": 11,
   "id": "bd7ade7c-3580-48a3-8243-df60f389782e",
   "metadata": {},
   "outputs": [
    {
     "data": {
      "text/plain": [
       "array([3.93117161e-04, 7.63598326e-02, 1.46646600e-02, 6.08362087e-03,\n",
       "       3.97489540e-01, 3.78290803e-02, 1.03041533e-02, 8.36820084e-03,\n",
       "       1.95372110e-04, 5.70339272e-03, 1.76150628e-01, 3.82427629e-03,\n",
       "       7.11757595e-04, 2.24468882e-04, 4.86689080e-03, 2.51046025e-01,\n",
       "       1.42704129e-03, 1.20883052e-04, 3.25318858e-04, 2.30966220e-04,\n",
       "       1.82506561e-03, 1.88284519e-01, 7.34368621e-04, 9.84761405e-04,\n",
       "       2.28706276e-04, 2.28133939e-03, 1.25523013e-01, 2.58656177e-04,\n",
       "       6.08070051e-05, 3.97489540e-02])"
      ]
     },
     "execution_count": 11,
     "metadata": {},
     "output_type": "execute_result"
    }
   ],
   "source": [
    "from sklearn.preprocessing import MinMaxScaler\n",
    "\n",
    "normalized = MinMaxScaler().fit_transform(X_train)\n",
    "\n",
    "# examine some of the non-NaN values\n",
    "normalized[~np.isnan(normalized)][:30]"
   ]
  },
  {
   "cell_type": "markdown",
   "id": "0b731756-0880-4bf3-a30d-c89b6942190e",
   "metadata": {},
   "source": [
    "Using the Median and IQR with RobustScaler"
   ]
  },
  {
   "cell_type": "code",
   "execution_count": 12,
   "id": "4caa7c62-4598-40ae-9f3a-12434a62cbba",
   "metadata": {},
   "outputs": [
    {
     "data": {
      "text/plain": [
       "array([-0.06900269, -0.16197792,  2.09219752,  0.29241339,  1.18200107,\n",
       "        5.60008385,  0.75183146, -0.44653374, -0.09894806,  0.25102438,\n",
       "        0.25566245,  0.45059228, -0.29233062, -0.09454181,  0.15996854,\n",
       "        0.56911162,  0.08756882, -0.35664915, -0.07926968, -0.0935579 ,\n",
       "       -0.17114358,  0.30644472, -0.01732554, -0.2626133 , -0.09390013,\n",
       "       -0.12147676,  0.04377782, -0.08936469, -0.36318861, -0.31520028])"
      ]
     },
     "execution_count": 12,
     "metadata": {},
     "output_type": "execute_result"
    }
   ],
   "source": [
    "from sklearn.preprocessing import RobustScaler\n",
    "\n",
    "robust_scaled = RobustScaler().fit_transform(X_train)\n",
    "\n",
    "# examine some of the non-NaN values\n",
    "robust_scaled[~np.isnan(robust_scaled)][:30]"
   ]
  },
  {
   "cell_type": "markdown",
   "id": "22f54eb8-787e-4ee4-8ed1-c5ef6cfdf90e",
   "metadata": {},
   "source": [
    "Encoding\n",
    "Binary encoding with np.where()"
   ]
  },
  {
   "cell_type": "code",
   "execution_count": 13,
   "id": "619dd6e8-a7c4-42b3-95f5-6c05195ac51b",
   "metadata": {},
   "outputs": [
    {
     "data": {
      "text/plain": [
       "array([0, 0, 0, ..., 1, 1, 1])"
      ]
     },
     "execution_count": 13,
     "metadata": {},
     "output_type": "execute_result"
    }
   ],
   "source": [
    "np.where(wine.kind == 'red', 1, 0)"
   ]
  },
  {
   "cell_type": "markdown",
   "id": "f17acc49-48b0-499a-a08e-d32ae477bfa1",
   "metadata": {},
   "source": [
    "We can also use the LabelBinarizer from scikit-learn:"
   ]
  },
  {
   "cell_type": "code",
   "execution_count": 14,
   "id": "3999c0c2-c9e4-464a-83d3-4076cba85a8e",
   "metadata": {},
   "outputs": [
    {
     "data": {
      "text/html": [
       "<style>#sk-container-id-1 {color: black;}#sk-container-id-1 pre{padding: 0;}#sk-container-id-1 div.sk-toggleable {background-color: white;}#sk-container-id-1 label.sk-toggleable__label {cursor: pointer;display: block;width: 100%;margin-bottom: 0;padding: 0.3em;box-sizing: border-box;text-align: center;}#sk-container-id-1 label.sk-toggleable__label-arrow:before {content: \"▸\";float: left;margin-right: 0.25em;color: #696969;}#sk-container-id-1 label.sk-toggleable__label-arrow:hover:before {color: black;}#sk-container-id-1 div.sk-estimator:hover label.sk-toggleable__label-arrow:before {color: black;}#sk-container-id-1 div.sk-toggleable__content {max-height: 0;max-width: 0;overflow: hidden;text-align: left;background-color: #f0f8ff;}#sk-container-id-1 div.sk-toggleable__content pre {margin: 0.2em;color: black;border-radius: 0.25em;background-color: #f0f8ff;}#sk-container-id-1 input.sk-toggleable__control:checked~div.sk-toggleable__content {max-height: 200px;max-width: 100%;overflow: auto;}#sk-container-id-1 input.sk-toggleable__control:checked~label.sk-toggleable__label-arrow:before {content: \"▾\";}#sk-container-id-1 div.sk-estimator input.sk-toggleable__control:checked~label.sk-toggleable__label {background-color: #d4ebff;}#sk-container-id-1 div.sk-label input.sk-toggleable__control:checked~label.sk-toggleable__label {background-color: #d4ebff;}#sk-container-id-1 input.sk-hidden--visually {border: 0;clip: rect(1px 1px 1px 1px);clip: rect(1px, 1px, 1px, 1px);height: 1px;margin: -1px;overflow: hidden;padding: 0;position: absolute;width: 1px;}#sk-container-id-1 div.sk-estimator {font-family: monospace;background-color: #f0f8ff;border: 1px dotted black;border-radius: 0.25em;box-sizing: border-box;margin-bottom: 0.5em;}#sk-container-id-1 div.sk-estimator:hover {background-color: #d4ebff;}#sk-container-id-1 div.sk-parallel-item::after {content: \"\";width: 100%;border-bottom: 1px solid gray;flex-grow: 1;}#sk-container-id-1 div.sk-label:hover label.sk-toggleable__label {background-color: #d4ebff;}#sk-container-id-1 div.sk-serial::before {content: \"\";position: absolute;border-left: 1px solid gray;box-sizing: border-box;top: 0;bottom: 0;left: 50%;z-index: 0;}#sk-container-id-1 div.sk-serial {display: flex;flex-direction: column;align-items: center;background-color: white;padding-right: 0.2em;padding-left: 0.2em;position: relative;}#sk-container-id-1 div.sk-item {position: relative;z-index: 1;}#sk-container-id-1 div.sk-parallel {display: flex;align-items: stretch;justify-content: center;background-color: white;position: relative;}#sk-container-id-1 div.sk-item::before, #sk-container-id-1 div.sk-parallel-item::before {content: \"\";position: absolute;border-left: 1px solid gray;box-sizing: border-box;top: 0;bottom: 0;left: 50%;z-index: -1;}#sk-container-id-1 div.sk-parallel-item {display: flex;flex-direction: column;z-index: 1;position: relative;background-color: white;}#sk-container-id-1 div.sk-parallel-item:first-child::after {align-self: flex-end;width: 50%;}#sk-container-id-1 div.sk-parallel-item:last-child::after {align-self: flex-start;width: 50%;}#sk-container-id-1 div.sk-parallel-item:only-child::after {width: 0;}#sk-container-id-1 div.sk-dashed-wrapped {border: 1px dashed gray;margin: 0 0.4em 0.5em 0.4em;box-sizing: border-box;padding-bottom: 0.4em;background-color: white;}#sk-container-id-1 div.sk-label label {font-family: monospace;font-weight: bold;display: inline-block;line-height: 1.2em;}#sk-container-id-1 div.sk-label-container {text-align: center;}#sk-container-id-1 div.sk-container {/* jupyter's `normalize.less` sets `[hidden] { display: none; }` but bootstrap.min.css set `[hidden] { display: none !important; }` so we also need the `!important` here to be able to override the default hidden behavior on the sphinx rendered scikit-learn.org. See: https://github.com/scikit-learn/scikit-learn/issues/21755 */display: inline-block !important;position: relative;}#sk-container-id-1 div.sk-text-repr-fallback {display: none;}</style><div id=\"sk-container-id-1\" class=\"sk-top-container\"><div class=\"sk-text-repr-fallback\"><pre>LabelBinarizer()</pre><b>In a Jupyter environment, please rerun this cell to show the HTML representation or trust the notebook. <br />On GitHub, the HTML representation is unable to render, please try loading this page with nbviewer.org.</b></div><div class=\"sk-container\" hidden><div class=\"sk-item\"><div class=\"sk-estimator sk-toggleable\"><input class=\"sk-toggleable__control sk-hidden--visually\" id=\"sk-estimator-id-1\" type=\"checkbox\" checked><label for=\"sk-estimator-id-1\" class=\"sk-toggleable__label sk-toggleable__label-arrow\">LabelBinarizer</label><div class=\"sk-toggleable__content\"><pre>LabelBinarizer()</pre></div></div></div></div></div>"
      ],
      "text/plain": [
       "LabelBinarizer()"
      ]
     },
     "execution_count": 14,
     "metadata": {},
     "output_type": "execute_result"
    }
   ],
   "source": [
    "from sklearn.preprocessing import LabelBinarizer\n",
    "\n",
    "binary_labels = LabelBinarizer().fit(wine.kind)\n",
    "binary_labels"
   ]
  },
  {
   "cell_type": "markdown",
   "id": "2bb7a9c6-d261-4685-8d2d-6cf33fb5d6cb",
   "metadata": {},
   "source": [
    "We can use the classes_ attribute to see the classes labeled and the inverse_transform() to see the labels assigned to each value:"
   ]
  },
  {
   "cell_type": "code",
   "execution_count": 15,
   "id": "362b3f60-5c29-4b0c-9499-ab1dc26c6e15",
   "metadata": {},
   "outputs": [
    {
     "data": {
      "text/plain": [
       "array(['red', 'white'], dtype='<U5')"
      ]
     },
     "execution_count": 15,
     "metadata": {},
     "output_type": "execute_result"
    }
   ],
   "source": [
    "binary_labels.inverse_transform(np.array([0, 1]))"
   ]
  },
  {
   "cell_type": "markdown",
   "id": "7cd09a03-0f36-4fb2-ab8b-4a53076934db",
   "metadata": {},
   "source": [
    "We can use the Binarizer for binary encoding of values based on a threshold. Values less than or equal to threshold will be 0; values greater than threshold will be 1:"
   ]
  },
  {
   "cell_type": "code",
   "execution_count": 16,
   "id": "81d25aea-5cc3-4c01-b4e2-e2da3b6975de",
   "metadata": {},
   "outputs": [
    {
     "data": {
      "text/plain": [
       "0    1382\n",
       "1     217\n",
       "Name: count, dtype: int64"
      ]
     },
     "execution_count": 16,
     "metadata": {},
     "output_type": "execute_result"
    }
   ],
   "source": [
    "from sklearn.preprocessing import Binarizer\n",
    "\n",
    "pd.Series(Binarizer(threshold=6).fit_transform(red_wine.quality.values.reshape(-1, 1)).flatten()).value_counts()"
   ]
  },
  {
   "cell_type": "code",
   "execution_count": 17,
   "id": "90b3fb83-77f8-4dc6-8c1a-0f9ef35d2036",
   "metadata": {},
   "outputs": [
    {
     "data": {
      "text/plain": [
       "{0, 1, 2}"
      ]
     },
     "execution_count": 17,
     "metadata": {},
     "output_type": "execute_result"
    }
   ],
   "source": [
    "# Ordinal Encoding with the LabelEncoder :\n",
    "from sklearn.preprocessing import LabelEncoder\n",
    "\n",
    "set(LabelEncoder().fit_transform(pd.cut(\n",
    "    red_wine.quality.sort_values(),\n",
    "    bins=[-1, 3, 6, 10],\n",
    "    labels=['low', 'med', 'high']\n",
    ")))"
   ]
  },
  {
   "cell_type": "markdown",
   "id": "fb1a1347-19c8-4b48-ae22-0119e568a3b5",
   "metadata": {},
   "source": [
    "One-hot encoding with the OneHotEncoder\n",
    "In some cases, label encoding may yield some associations that aren't something we want the model to be trained on. A safer strategy is to use one-hot encoding.\n",
    "\n",
    "Our planets data has a list column that we can one-hot encode:"
   ]
  },
  {
   "cell_type": "code",
   "execution_count": 18,
   "id": "9c154611-9f61-4367-9d0c-28bdb0600088",
   "metadata": {},
   "outputs": [
    {
     "data": {
      "text/plain": [
       "list\n",
       "Confirmed planets                    3683\n",
       "Controversial                         106\n",
       "Retracted planet candidate             11\n",
       "Solar System                            9\n",
       "Kepler Objects of Interest              4\n",
       "Planets in binary systems, S-type       1\n",
       "Name: count, dtype: int64"
      ]
     },
     "execution_count": 18,
     "metadata": {},
     "output_type": "execute_result"
    }
   ],
   "source": [
    "planets.list.value_counts()"
   ]
  },
  {
   "cell_type": "markdown",
   "id": "fcad9aaa-e975-463e-b68f-5b64d963d74c",
   "metadata": {},
   "source": [
    "Using pd.get_dummies()"
   ]
  },
  {
   "cell_type": "code",
   "execution_count": 19,
   "id": "ed1dc19c-c8cf-440f-8426-dcebfaa865fd",
   "metadata": {},
   "outputs": [
    {
     "data": {
      "text/html": [
       "<div>\n",
       "<style scoped>\n",
       "    .dataframe tbody tr th:only-of-type {\n",
       "        vertical-align: middle;\n",
       "    }\n",
       "\n",
       "    .dataframe tbody tr th {\n",
       "        vertical-align: top;\n",
       "    }\n",
       "\n",
       "    .dataframe thead th {\n",
       "        text-align: right;\n",
       "    }\n",
       "</style>\n",
       "<table border=\"1\" class=\"dataframe\">\n",
       "  <thead>\n",
       "    <tr style=\"text-align: right;\">\n",
       "      <th></th>\n",
       "      <th>Confirmed planets</th>\n",
       "      <th>Controversial</th>\n",
       "      <th>Kepler Objects of Interest</th>\n",
       "      <th>Planets in binary systems, S-type</th>\n",
       "      <th>Retracted planet candidate</th>\n",
       "      <th>Solar System</th>\n",
       "    </tr>\n",
       "  </thead>\n",
       "  <tbody>\n",
       "    <tr>\n",
       "      <th>0</th>\n",
       "      <td>True</td>\n",
       "      <td>False</td>\n",
       "      <td>False</td>\n",
       "      <td>False</td>\n",
       "      <td>False</td>\n",
       "      <td>False</td>\n",
       "    </tr>\n",
       "    <tr>\n",
       "      <th>1</th>\n",
       "      <td>True</td>\n",
       "      <td>False</td>\n",
       "      <td>False</td>\n",
       "      <td>False</td>\n",
       "      <td>False</td>\n",
       "      <td>False</td>\n",
       "    </tr>\n",
       "    <tr>\n",
       "      <th>2</th>\n",
       "      <td>True</td>\n",
       "      <td>False</td>\n",
       "      <td>False</td>\n",
       "      <td>False</td>\n",
       "      <td>False</td>\n",
       "      <td>False</td>\n",
       "    </tr>\n",
       "    <tr>\n",
       "      <th>3</th>\n",
       "      <td>True</td>\n",
       "      <td>False</td>\n",
       "      <td>False</td>\n",
       "      <td>False</td>\n",
       "      <td>False</td>\n",
       "      <td>False</td>\n",
       "    </tr>\n",
       "    <tr>\n",
       "      <th>4</th>\n",
       "      <td>False</td>\n",
       "      <td>True</td>\n",
       "      <td>False</td>\n",
       "      <td>False</td>\n",
       "      <td>False</td>\n",
       "      <td>False</td>\n",
       "    </tr>\n",
       "  </tbody>\n",
       "</table>\n",
       "</div>"
      ],
      "text/plain": [
       "   Confirmed planets  Controversial  Kepler Objects of Interest  \\\n",
       "0               True          False                       False   \n",
       "1               True          False                       False   \n",
       "2               True          False                       False   \n",
       "3               True          False                       False   \n",
       "4              False           True                       False   \n",
       "\n",
       "   Planets in binary systems, S-type  Retracted planet candidate  Solar System  \n",
       "0                              False                       False         False  \n",
       "1                              False                       False         False  \n",
       "2                              False                       False         False  \n",
       "3                              False                       False         False  \n",
       "4                              False                       False         False  "
      ]
     },
     "execution_count": 19,
     "metadata": {},
     "output_type": "execute_result"
    }
   ],
   "source": [
    "pd.get_dummies(planets.list).head()"
   ]
  },
  {
   "cell_type": "code",
   "execution_count": 20,
   "id": "9cf5718c-90d6-4583-bb38-edda2120c03c",
   "metadata": {},
   "outputs": [
    {
     "data": {
      "text/html": [
       "<div>\n",
       "<style scoped>\n",
       "    .dataframe tbody tr th:only-of-type {\n",
       "        vertical-align: middle;\n",
       "    }\n",
       "\n",
       "    .dataframe tbody tr th {\n",
       "        vertical-align: top;\n",
       "    }\n",
       "\n",
       "    .dataframe thead th {\n",
       "        text-align: right;\n",
       "    }\n",
       "</style>\n",
       "<table border=\"1\" class=\"dataframe\">\n",
       "  <thead>\n",
       "    <tr style=\"text-align: right;\">\n",
       "      <th></th>\n",
       "      <th>Controversial</th>\n",
       "      <th>Kepler Objects of Interest</th>\n",
       "      <th>Planets in binary systems, S-type</th>\n",
       "      <th>Retracted planet candidate</th>\n",
       "      <th>Solar System</th>\n",
       "    </tr>\n",
       "  </thead>\n",
       "  <tbody>\n",
       "    <tr>\n",
       "      <th>0</th>\n",
       "      <td>False</td>\n",
       "      <td>False</td>\n",
       "      <td>False</td>\n",
       "      <td>False</td>\n",
       "      <td>False</td>\n",
       "    </tr>\n",
       "    <tr>\n",
       "      <th>1</th>\n",
       "      <td>False</td>\n",
       "      <td>False</td>\n",
       "      <td>False</td>\n",
       "      <td>False</td>\n",
       "      <td>False</td>\n",
       "    </tr>\n",
       "    <tr>\n",
       "      <th>2</th>\n",
       "      <td>False</td>\n",
       "      <td>False</td>\n",
       "      <td>False</td>\n",
       "      <td>False</td>\n",
       "      <td>False</td>\n",
       "    </tr>\n",
       "    <tr>\n",
       "      <th>3</th>\n",
       "      <td>False</td>\n",
       "      <td>False</td>\n",
       "      <td>False</td>\n",
       "      <td>False</td>\n",
       "      <td>False</td>\n",
       "    </tr>\n",
       "    <tr>\n",
       "      <th>4</th>\n",
       "      <td>True</td>\n",
       "      <td>False</td>\n",
       "      <td>False</td>\n",
       "      <td>False</td>\n",
       "      <td>False</td>\n",
       "    </tr>\n",
       "  </tbody>\n",
       "</table>\n",
       "</div>"
      ],
      "text/plain": [
       "   Controversial  Kepler Objects of Interest  \\\n",
       "0          False                       False   \n",
       "1          False                       False   \n",
       "2          False                       False   \n",
       "3          False                       False   \n",
       "4           True                       False   \n",
       "\n",
       "   Planets in binary systems, S-type  Retracted planet candidate  Solar System  \n",
       "0                              False                       False         False  \n",
       "1                              False                       False         False  \n",
       "2                              False                       False         False  \n",
       "3                              False                       False         False  \n",
       "4                              False                       False         False  "
      ]
     },
     "execution_count": 20,
     "metadata": {},
     "output_type": "execute_result"
    }
   ],
   "source": [
    "pd.get_dummies(planets.list, drop_first=True).head()"
   ]
  },
  {
   "cell_type": "markdown",
   "id": "845fec78-926a-4bd6-bf1c-7507e913f3fd",
   "metadata": {},
   "source": [
    "We can also use the LabelBinarizer:"
   ]
  },
  {
   "cell_type": "code",
   "execution_count": 21,
   "id": "cfa0998e-efee-4579-85d1-34181e334da9",
   "metadata": {},
   "outputs": [
    {
     "data": {
      "text/plain": [
       "array([[1, 0, 0, 0, 0, 0],\n",
       "       [1, 0, 0, 0, 0, 0],\n",
       "       [1, 0, 0, 0, 0, 0],\n",
       "       ...,\n",
       "       [1, 0, 0, 0, 0, 0],\n",
       "       [1, 0, 0, 0, 0, 0],\n",
       "       [1, 0, 0, 0, 0, 0]])"
      ]
     },
     "execution_count": 21,
     "metadata": {},
     "output_type": "execute_result"
    }
   ],
   "source": [
    "from sklearn.preprocessing import LabelBinarizer\n",
    "\n",
    "LabelBinarizer().fit_transform(planets.list)"
   ]
  },
  {
   "cell_type": "markdown",
   "id": "613fcced-995b-4073-b9e6-6806efe44e7a",
   "metadata": {},
   "source": [
    "Imputing\n",
    "SimpleImputer\n",
    "We can fill with the mean, median, most_frequent (mode), or a constant value by specifiying the strategy. The default is the mean:"
   ]
  },
  {
   "cell_type": "code",
   "execution_count": 22,
   "id": "5bcda418-280e-4057-9de5-f277b2b45e03",
   "metadata": {},
   "outputs": [
    {
     "data": {
      "text/plain": [
       "array([[ 1.29      , 19.4       ,  0.231     ],\n",
       "       [ 1.54      , 11.2       ,  0.08      ],\n",
       "       [ 0.83      ,  4.8       ,  0.        ],\n",
       "       ...,\n",
       "       [ 1.61032944,  0.3334    ,  0.31      ],\n",
       "       [ 1.61032944,  0.4       ,  0.27      ],\n",
       "       [ 1.61032944,  0.42      ,  0.16      ]])"
      ]
     },
     "execution_count": 22,
     "metadata": {},
     "output_type": "execute_result"
    }
   ],
   "source": [
    "from sklearn.impute import SimpleImputer\n",
    "\n",
    "SimpleImputer().fit_transform(\n",
    "    planets[['semimajoraxis', 'mass', 'eccentricity']]\n",
    ")"
   ]
  },
  {
   "cell_type": "code",
   "execution_count": 23,
   "id": "f9c0e586-a944-4989-822d-ec5f87bfed28",
   "metadata": {},
   "outputs": [
    {
     "data": {
      "text/plain": [
       "array([[ 1.29    , 19.4     ,  0.231   ],\n",
       "       [ 1.54    , 11.2     ,  0.08    ],\n",
       "       [ 0.83    ,  4.8     ,  0.      ],\n",
       "       ...,\n",
       "       [ 0.163518,  0.3334  ,  0.31    ],\n",
       "       [ 0.163518,  0.4     ,  0.27    ],\n",
       "       [ 0.163518,  0.42    ,  0.16    ]])"
      ]
     },
     "execution_count": 23,
     "metadata": {},
     "output_type": "execute_result"
    }
   ],
   "source": [
    "from sklearn.impute import SimpleImputer\n",
    "\n",
    "SimpleImputer(strategy='median').fit_transform(\n",
    "    planets[['semimajoraxis', 'mass', 'eccentricity']]\n",
    ")"
   ]
  },
  {
   "cell_type": "markdown",
   "id": "3ec5ed4a-f693-49c8-aa26-ee0cc9eca510",
   "metadata": {},
   "source": [
    "MissingIndicator\n",
    "We can mark where values are missing and use this as a feature in our model:"
   ]
  },
  {
   "cell_type": "code",
   "execution_count": 24,
   "id": "5f322537-0898-4714-a377-0ba99d5a6dff",
   "metadata": {},
   "outputs": [
    {
     "data": {
      "text/plain": [
       "array([[False, False, False],\n",
       "       [False, False, False],\n",
       "       [False, False, False],\n",
       "       ...,\n",
       "       [ True, False, False],\n",
       "       [ True, False, False],\n",
       "       [ True, False, False]])"
      ]
     },
     "execution_count": 24,
     "metadata": {},
     "output_type": "execute_result"
    }
   ],
   "source": [
    "from sklearn.impute import MissingIndicator\n",
    "\n",
    "MissingIndicator().fit_transform(\n",
    "    planets[['semimajoraxis', 'mass', 'eccentricity']]\n",
    ")"
   ]
  },
  {
   "cell_type": "markdown",
   "id": "9cb24ac4-58bd-4835-b722-8af09f3b2763",
   "metadata": {},
   "source": [
    "Additional Transformers\n",
    "FunctionTransformer\n",
    "With the FunctionTransformer, we can use any function on the data. By passing validate=True, we will convert the result to two-dimensional numpy array and raise an error if there is an issue:"
   ]
  },
  {
   "cell_type": "code",
   "execution_count": 25,
   "id": "a8cf97d8-64c7-4e89-8286-28f00d7cc3fa",
   "metadata": {},
   "outputs": [
    {
     "data": {
      "text/plain": [
       "array([[0.073 , 2.6   , 1.6   ],\n",
       "       [0.38  , 6.7   , 2.71  ],\n",
       "       [0.008 , 0.039 , 1.5   ],\n",
       "       ...,\n",
       "       [0.4   , 1.9   , 5.3   ],\n",
       "       [0.2   , 0.172 , 0.0162],\n",
       "       [0.249 , 4.62  , 2.99  ]])"
      ]
     },
     "execution_count": 25,
     "metadata": {},
     "output_type": "execute_result"
    }
   ],
   "source": [
    "from sklearn.preprocessing import FunctionTransformer\n",
    "\n",
    "FunctionTransformer(\n",
    "    np.abs, validate=True\n",
    ").fit_transform(X_train.dropna())"
   ]
  },
  {
   "cell_type": "markdown",
   "id": "f5415e8c-e330-401c-b4ce-34b7819cf93c",
   "metadata": {},
   "source": [
    "ColumnTransformer\n",
    "Sometimes we don't want to perform the same transformation on all of our features, the ColumnTransformer lets us specify which tranformations to use on each column. We pass a list of tuples in the form (name, transformer object, columns to apply to):"
   ]
  },
  {
   "cell_type": "code",
   "execution_count": 26,
   "id": "66e483a1-b773-4dc7-86f7-d6cadcaf71e8",
   "metadata": {},
   "outputs": [
    {
     "data": {
      "text/plain": [
       "array([[            nan,             nan,             nan,\n",
       "         1.69919971e-01,  2.88416362e+00],\n",
       "       [-7.91305129e-03, -9.86912907e-02,  7.11757595e-04,\n",
       "         1.68400000e-01,  1.87200000e-01],\n",
       "       [            nan,             nan,             nan,\n",
       "         1.69919971e-01,  2.88416362e+00],\n",
       "       [            nan, -1.80320454e-01,  4.86689080e-03,\n",
       "         1.69919971e-01,  1.28000000e+00],\n",
       "       [ 3.64840414e-01, -1.53050946e-01,  1.20883052e-04,\n",
       "         2.40000000e-01,  3.18000000e-02]])"
      ]
     },
     "execution_count": 26,
     "metadata": {},
     "output_type": "execute_result"
    }
   ],
   "source": [
    "from sklearn.compose import ColumnTransformer \n",
    "from sklearn.impute import SimpleImputer\n",
    "from sklearn.preprocessing import MinMaxScaler, StandardScaler\n",
    "\n",
    "ColumnTransformer(\n",
    "    [\n",
    "        ('standard_scale', StandardScaler(), [0, 1]),\n",
    "        ('min_max', MinMaxScaler(), [2]),\n",
    "        ('impute', SimpleImputer(), [0, 2])\n",
    "    ]\n",
    ").fit_transform(X_train)[15:20] "
   ]
  },
  {
   "cell_type": "markdown",
   "id": "d90b7c64-3d8a-4b6c-933e-a26fe7211e2e",
   "metadata": {},
   "source": [
    "We can use the make_column_transformer() which will name the transformers for us:"
   ]
  },
  {
   "cell_type": "code",
   "execution_count": 27,
   "id": "5445f174-809e-40b6-a131-8dff2d47d75e",
   "metadata": {},
   "outputs": [
    {
     "name": "stderr",
     "output_type": "stream",
     "text": [
      "/home/shan/.local/lib/python3.10/site-packages/sklearn/preprocessing/_encoders.py:975: FutureWarning: `sparse` was renamed to `sparse_output` in version 1.2 and will be removed in 1.4. `sparse_output` is ignored unless you leave `sparse` to its default value.\n",
      "  warnings.warn(\n"
     ]
    },
    {
     "data": {
      "text/plain": [
       "array([[-0.49212919, -0.00209303, -0.22454741, ...,  1.        ,\n",
       "         0.        ,  0.        ],\n",
       "       [-0.40533358, -0.68276379, -0.23169035, ...,  1.        ,\n",
       "         0.        ,  0.        ],\n",
       "       [-0.55610666, -1.04338405, -0.23162366, ...,  1.        ,\n",
       "         0.        ,  0.        ],\n",
       "       ...,\n",
       "       [-0.5979688 , -0.68276379, -0.76124811, ...,  0.        ,\n",
       "         0.        ,  1.        ],\n",
       "       [-0.62883808, -0.88110493,  0.40907393, ...,  1.        ,\n",
       "         0.        ,  0.        ],\n",
       "       [-0.5785095 , -1.04338405, -0.20563417, ...,  1.        ,\n",
       "         0.        ,  0.        ]])"
      ]
     },
     "execution_count": 27,
     "metadata": {},
     "output_type": "execute_result"
    }
   ],
   "source": [
    "from sklearn.compose import make_column_transformer\n",
    "from sklearn.preprocessing import OneHotEncoder, StandardScaler\n",
    "\n",
    "categorical = [\n",
    "    col for col in planets.columns \\\n",
    "    if col in [\n",
    "        'list', 'name', 'description', \n",
    "        'discoverymethod', 'lastupdate'\n",
    "    ]\n",
    "]\n",
    "numeric = [col for col in planets.columns if col not in categorical]\n",
    "\n",
    "make_column_transformer(\n",
    "    (StandardScaler(), numeric),\n",
    "    (OneHotEncoder(sparse=False), categorical)\n",
    ").fit_transform(planets.dropna())"
   ]
  },
  {
   "cell_type": "code",
   "execution_count": 28,
   "id": "b5b918e9-14a8-4658-a36d-6f23d34fd744",
   "metadata": {},
   "outputs": [
    {
     "data": {
      "text/html": [
       "<style>#sk-container-id-2 {color: black;}#sk-container-id-2 pre{padding: 0;}#sk-container-id-2 div.sk-toggleable {background-color: white;}#sk-container-id-2 label.sk-toggleable__label {cursor: pointer;display: block;width: 100%;margin-bottom: 0;padding: 0.3em;box-sizing: border-box;text-align: center;}#sk-container-id-2 label.sk-toggleable__label-arrow:before {content: \"▸\";float: left;margin-right: 0.25em;color: #696969;}#sk-container-id-2 label.sk-toggleable__label-arrow:hover:before {color: black;}#sk-container-id-2 div.sk-estimator:hover label.sk-toggleable__label-arrow:before {color: black;}#sk-container-id-2 div.sk-toggleable__content {max-height: 0;max-width: 0;overflow: hidden;text-align: left;background-color: #f0f8ff;}#sk-container-id-2 div.sk-toggleable__content pre {margin: 0.2em;color: black;border-radius: 0.25em;background-color: #f0f8ff;}#sk-container-id-2 input.sk-toggleable__control:checked~div.sk-toggleable__content {max-height: 200px;max-width: 100%;overflow: auto;}#sk-container-id-2 input.sk-toggleable__control:checked~label.sk-toggleable__label-arrow:before {content: \"▾\";}#sk-container-id-2 div.sk-estimator input.sk-toggleable__control:checked~label.sk-toggleable__label {background-color: #d4ebff;}#sk-container-id-2 div.sk-label input.sk-toggleable__control:checked~label.sk-toggleable__label {background-color: #d4ebff;}#sk-container-id-2 input.sk-hidden--visually {border: 0;clip: rect(1px 1px 1px 1px);clip: rect(1px, 1px, 1px, 1px);height: 1px;margin: -1px;overflow: hidden;padding: 0;position: absolute;width: 1px;}#sk-container-id-2 div.sk-estimator {font-family: monospace;background-color: #f0f8ff;border: 1px dotted black;border-radius: 0.25em;box-sizing: border-box;margin-bottom: 0.5em;}#sk-container-id-2 div.sk-estimator:hover {background-color: #d4ebff;}#sk-container-id-2 div.sk-parallel-item::after {content: \"\";width: 100%;border-bottom: 1px solid gray;flex-grow: 1;}#sk-container-id-2 div.sk-label:hover label.sk-toggleable__label {background-color: #d4ebff;}#sk-container-id-2 div.sk-serial::before {content: \"\";position: absolute;border-left: 1px solid gray;box-sizing: border-box;top: 0;bottom: 0;left: 50%;z-index: 0;}#sk-container-id-2 div.sk-serial {display: flex;flex-direction: column;align-items: center;background-color: white;padding-right: 0.2em;padding-left: 0.2em;position: relative;}#sk-container-id-2 div.sk-item {position: relative;z-index: 1;}#sk-container-id-2 div.sk-parallel {display: flex;align-items: stretch;justify-content: center;background-color: white;position: relative;}#sk-container-id-2 div.sk-item::before, #sk-container-id-2 div.sk-parallel-item::before {content: \"\";position: absolute;border-left: 1px solid gray;box-sizing: border-box;top: 0;bottom: 0;left: 50%;z-index: -1;}#sk-container-id-2 div.sk-parallel-item {display: flex;flex-direction: column;z-index: 1;position: relative;background-color: white;}#sk-container-id-2 div.sk-parallel-item:first-child::after {align-self: flex-end;width: 50%;}#sk-container-id-2 div.sk-parallel-item:last-child::after {align-self: flex-start;width: 50%;}#sk-container-id-2 div.sk-parallel-item:only-child::after {width: 0;}#sk-container-id-2 div.sk-dashed-wrapped {border: 1px dashed gray;margin: 0 0.4em 0.5em 0.4em;box-sizing: border-box;padding-bottom: 0.4em;background-color: white;}#sk-container-id-2 div.sk-label label {font-family: monospace;font-weight: bold;display: inline-block;line-height: 1.2em;}#sk-container-id-2 div.sk-label-container {text-align: center;}#sk-container-id-2 div.sk-container {/* jupyter's `normalize.less` sets `[hidden] { display: none; }` but bootstrap.min.css set `[hidden] { display: none !important; }` so we also need the `!important` here to be able to override the default hidden behavior on the sphinx rendered scikit-learn.org. See: https://github.com/scikit-learn/scikit-learn/issues/21755 */display: inline-block !important;position: relative;}#sk-container-id-2 div.sk-text-repr-fallback {display: none;}</style><div id=\"sk-container-id-2\" class=\"sk-top-container\"><div class=\"sk-text-repr-fallback\"><pre>Pipeline(steps=[(&#x27;scale&#x27;, StandardScaler()), (&#x27;lr&#x27;, LinearRegression())])</pre><b>In a Jupyter environment, please rerun this cell to show the HTML representation or trust the notebook. <br />On GitHub, the HTML representation is unable to render, please try loading this page with nbviewer.org.</b></div><div class=\"sk-container\" hidden><div class=\"sk-item sk-dashed-wrapped\"><div class=\"sk-label-container\"><div class=\"sk-label sk-toggleable\"><input class=\"sk-toggleable__control sk-hidden--visually\" id=\"sk-estimator-id-2\" type=\"checkbox\" ><label for=\"sk-estimator-id-2\" class=\"sk-toggleable__label sk-toggleable__label-arrow\">Pipeline</label><div class=\"sk-toggleable__content\"><pre>Pipeline(steps=[(&#x27;scale&#x27;, StandardScaler()), (&#x27;lr&#x27;, LinearRegression())])</pre></div></div></div><div class=\"sk-serial\"><div class=\"sk-item\"><div class=\"sk-estimator sk-toggleable\"><input class=\"sk-toggleable__control sk-hidden--visually\" id=\"sk-estimator-id-3\" type=\"checkbox\" ><label for=\"sk-estimator-id-3\" class=\"sk-toggleable__label sk-toggleable__label-arrow\">StandardScaler</label><div class=\"sk-toggleable__content\"><pre>StandardScaler()</pre></div></div></div><div class=\"sk-item\"><div class=\"sk-estimator sk-toggleable\"><input class=\"sk-toggleable__control sk-hidden--visually\" id=\"sk-estimator-id-4\" type=\"checkbox\" ><label for=\"sk-estimator-id-4\" class=\"sk-toggleable__label sk-toggleable__label-arrow\">LinearRegression</label><div class=\"sk-toggleable__content\"><pre>LinearRegression()</pre></div></div></div></div></div></div></div>"
      ],
      "text/plain": [
       "Pipeline(steps=[('scale', StandardScaler()), ('lr', LinearRegression())])"
      ]
     },
     "execution_count": 28,
     "metadata": {},
     "output_type": "execute_result"
    }
   ],
   "source": [
    "# Pipeline :\n",
    "from sklearn.pipeline import Pipeline\n",
    "from sklearn.preprocessing import StandardScaler\n",
    "from sklearn.linear_model import LinearRegression\n",
    "\n",
    "Pipeline([('scale', StandardScaler()), ('lr', LinearRegression())])"
   ]
  },
  {
   "cell_type": "code",
   "execution_count": 29,
   "id": "a56e40c1-74a6-422b-8e7b-c9a71a5eacea",
   "metadata": {},
   "outputs": [
    {
     "data": {
      "text/html": [
       "<style>#sk-container-id-3 {color: black;}#sk-container-id-3 pre{padding: 0;}#sk-container-id-3 div.sk-toggleable {background-color: white;}#sk-container-id-3 label.sk-toggleable__label {cursor: pointer;display: block;width: 100%;margin-bottom: 0;padding: 0.3em;box-sizing: border-box;text-align: center;}#sk-container-id-3 label.sk-toggleable__label-arrow:before {content: \"▸\";float: left;margin-right: 0.25em;color: #696969;}#sk-container-id-3 label.sk-toggleable__label-arrow:hover:before {color: black;}#sk-container-id-3 div.sk-estimator:hover label.sk-toggleable__label-arrow:before {color: black;}#sk-container-id-3 div.sk-toggleable__content {max-height: 0;max-width: 0;overflow: hidden;text-align: left;background-color: #f0f8ff;}#sk-container-id-3 div.sk-toggleable__content pre {margin: 0.2em;color: black;border-radius: 0.25em;background-color: #f0f8ff;}#sk-container-id-3 input.sk-toggleable__control:checked~div.sk-toggleable__content {max-height: 200px;max-width: 100%;overflow: auto;}#sk-container-id-3 input.sk-toggleable__control:checked~label.sk-toggleable__label-arrow:before {content: \"▾\";}#sk-container-id-3 div.sk-estimator input.sk-toggleable__control:checked~label.sk-toggleable__label {background-color: #d4ebff;}#sk-container-id-3 div.sk-label input.sk-toggleable__control:checked~label.sk-toggleable__label {background-color: #d4ebff;}#sk-container-id-3 input.sk-hidden--visually {border: 0;clip: rect(1px 1px 1px 1px);clip: rect(1px, 1px, 1px, 1px);height: 1px;margin: -1px;overflow: hidden;padding: 0;position: absolute;width: 1px;}#sk-container-id-3 div.sk-estimator {font-family: monospace;background-color: #f0f8ff;border: 1px dotted black;border-radius: 0.25em;box-sizing: border-box;margin-bottom: 0.5em;}#sk-container-id-3 div.sk-estimator:hover {background-color: #d4ebff;}#sk-container-id-3 div.sk-parallel-item::after {content: \"\";width: 100%;border-bottom: 1px solid gray;flex-grow: 1;}#sk-container-id-3 div.sk-label:hover label.sk-toggleable__label {background-color: #d4ebff;}#sk-container-id-3 div.sk-serial::before {content: \"\";position: absolute;border-left: 1px solid gray;box-sizing: border-box;top: 0;bottom: 0;left: 50%;z-index: 0;}#sk-container-id-3 div.sk-serial {display: flex;flex-direction: column;align-items: center;background-color: white;padding-right: 0.2em;padding-left: 0.2em;position: relative;}#sk-container-id-3 div.sk-item {position: relative;z-index: 1;}#sk-container-id-3 div.sk-parallel {display: flex;align-items: stretch;justify-content: center;background-color: white;position: relative;}#sk-container-id-3 div.sk-item::before, #sk-container-id-3 div.sk-parallel-item::before {content: \"\";position: absolute;border-left: 1px solid gray;box-sizing: border-box;top: 0;bottom: 0;left: 50%;z-index: -1;}#sk-container-id-3 div.sk-parallel-item {display: flex;flex-direction: column;z-index: 1;position: relative;background-color: white;}#sk-container-id-3 div.sk-parallel-item:first-child::after {align-self: flex-end;width: 50%;}#sk-container-id-3 div.sk-parallel-item:last-child::after {align-self: flex-start;width: 50%;}#sk-container-id-3 div.sk-parallel-item:only-child::after {width: 0;}#sk-container-id-3 div.sk-dashed-wrapped {border: 1px dashed gray;margin: 0 0.4em 0.5em 0.4em;box-sizing: border-box;padding-bottom: 0.4em;background-color: white;}#sk-container-id-3 div.sk-label label {font-family: monospace;font-weight: bold;display: inline-block;line-height: 1.2em;}#sk-container-id-3 div.sk-label-container {text-align: center;}#sk-container-id-3 div.sk-container {/* jupyter's `normalize.less` sets `[hidden] { display: none; }` but bootstrap.min.css set `[hidden] { display: none !important; }` so we also need the `!important` here to be able to override the default hidden behavior on the sphinx rendered scikit-learn.org. See: https://github.com/scikit-learn/scikit-learn/issues/21755 */display: inline-block !important;position: relative;}#sk-container-id-3 div.sk-text-repr-fallback {display: none;}</style><div id=\"sk-container-id-3\" class=\"sk-top-container\"><div class=\"sk-text-repr-fallback\"><pre>Pipeline(steps=[(&#x27;standardscaler&#x27;, StandardScaler()),\n",
       "                (&#x27;linearregression&#x27;, LinearRegression())])</pre><b>In a Jupyter environment, please rerun this cell to show the HTML representation or trust the notebook. <br />On GitHub, the HTML representation is unable to render, please try loading this page with nbviewer.org.</b></div><div class=\"sk-container\" hidden><div class=\"sk-item sk-dashed-wrapped\"><div class=\"sk-label-container\"><div class=\"sk-label sk-toggleable\"><input class=\"sk-toggleable__control sk-hidden--visually\" id=\"sk-estimator-id-5\" type=\"checkbox\" ><label for=\"sk-estimator-id-5\" class=\"sk-toggleable__label sk-toggleable__label-arrow\">Pipeline</label><div class=\"sk-toggleable__content\"><pre>Pipeline(steps=[(&#x27;standardscaler&#x27;, StandardScaler()),\n",
       "                (&#x27;linearregression&#x27;, LinearRegression())])</pre></div></div></div><div class=\"sk-serial\"><div class=\"sk-item\"><div class=\"sk-estimator sk-toggleable\"><input class=\"sk-toggleable__control sk-hidden--visually\" id=\"sk-estimator-id-6\" type=\"checkbox\" ><label for=\"sk-estimator-id-6\" class=\"sk-toggleable__label sk-toggleable__label-arrow\">StandardScaler</label><div class=\"sk-toggleable__content\"><pre>StandardScaler()</pre></div></div></div><div class=\"sk-item\"><div class=\"sk-estimator sk-toggleable\"><input class=\"sk-toggleable__control sk-hidden--visually\" id=\"sk-estimator-id-7\" type=\"checkbox\" ><label for=\"sk-estimator-id-7\" class=\"sk-toggleable__label sk-toggleable__label-arrow\">LinearRegression</label><div class=\"sk-toggleable__content\"><pre>LinearRegression()</pre></div></div></div></div></div></div></div>"
      ],
      "text/plain": [
       "Pipeline(steps=[('standardscaler', StandardScaler()),\n",
       "                ('linearregression', LinearRegression())])"
      ]
     },
     "execution_count": 29,
     "metadata": {},
     "output_type": "execute_result"
    }
   ],
   "source": [
    "from sklearn.pipeline import make_pipeline\n",
    "\n",
    "make_pipeline(StandardScaler(), LinearRegression())"
   ]
  },
  {
   "cell_type": "code",
   "execution_count": null,
   "id": "af92aad6-7a02-4328-865d-aece11510be9",
   "metadata": {},
   "outputs": [],
   "source": []
  }
 ],
 "metadata": {
  "kernelspec": {
   "display_name": "Python 3 (ipykernel)",
   "language": "python",
   "name": "python3"
  },
  "language_info": {
   "codemirror_mode": {
    "name": "ipython",
    "version": 3
   },
   "file_extension": ".py",
   "mimetype": "text/x-python",
   "name": "python",
   "nbconvert_exporter": "python",
   "pygments_lexer": "ipython3",
   "version": "3.10.12"
  }
 },
 "nbformat": 4,
 "nbformat_minor": 5
}
